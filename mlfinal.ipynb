{
 "cells": [
  {
   "cell_type": "markdown",
   "metadata": {},
   "source": [
    "# Machine Learning Final Project"
   ]
  },
  {
   "cell_type": "markdown",
   "metadata": {},
   "source": [
    "## Importing Libraries"
   ]
  },
  {
   "cell_type": "code",
   "execution_count": 2,
   "metadata": {},
   "outputs": [],
   "source": [
    "from IPython.core.interactiveshell import InteractiveShell\n",
    "InteractiveShell.ast_node_interactivity = \"all\"\n",
    "\n",
    "import matplotlib.pyplot as plt\n",
    "import seaborn as sns\n",
    "import pandas as pd\n",
    "import numpy as np\n",
    "import sklearn\n",
    "import scipy"
   ]
  },
  {
   "cell_type": "markdown",
   "metadata": {},
   "source": [
    "# Preliminary Data Analysis"
   ]
  },
  {
   "cell_type": "markdown",
   "metadata": {},
   "source": [
    "Load in the training and test data."
   ]
  },
  {
   "cell_type": "code",
   "execution_count": 15,
   "metadata": {},
   "outputs": [
    {
     "name": "stdout",
     "output_type": "stream",
     "text": [
      "   Unnamed: 0 Kingdom  DNAtype  SpeciesID  Ncodons  \\\n",
      "0         872     vrl        0     207343     6686   \n",
      "1        9865     inv        0       7629    10060   \n",
      "2        3190     bct        0     320850    14031   \n",
      "3        3674     bct        0       1397    39839   \n",
      "4       11372     vrt        1      50790     5112   \n",
      "\n",
      "                            SpeciesName      UUU      UUC      UUA      UUG  \\\n",
      "0                    Bovine foamy virus  0.01541  0.00927  0.01720  0.01825   \n",
      "1              Anthocidaris crassispina  0.01213  0.02515  0.00268  0.01352   \n",
      "2               Staphylococcus phage X2  0.02580  0.01618  0.03606  0.01354   \n",
      "3                    Bacillus circulans  0.00128  0.02141  0.01225  0.01649   \n",
      "4  mitochondrion Dascyllus trimaculatus  0.03169  0.01780  0.03893  0.00000   \n",
      "\n",
      "   ...      CGG      AGA      AGG      GAU      GAC      GAA      GAG  \\\n",
      "0  ...  0.00643  0.02064  0.01182  0.02812  0.00838  0.03365  0.01974   \n",
      "1  ...  0.00268  0.00915  0.01412  0.03280  0.02555  0.03708  0.05398   \n",
      "2  ...  0.00114  0.01775  0.00499  0.03756  0.02523  0.05388  0.01946   \n",
      "3  ...  0.01177  0.00705  0.00422  0.03316  0.02229  0.03444  0.02370   \n",
      "4  ...  0.00000  0.00000  0.00000  0.00020  0.01389  0.02465  0.00352   \n",
      "\n",
      "       UAA      UAG      UGA  \n",
      "0  0.01511  0.00030  0.00030  \n",
      "1  0.03330  0.00030  0.00050  \n",
      "2  0.02245  0.00121  0.00086  \n",
      "3  0.00831  0.00028  0.00063  \n",
      "4  0.00352  0.00000  0.02465  \n",
      "\n",
      "[5 rows x 70 columns]\n",
      "Train shape: \n",
      "(10422, 70)\n",
      "   Unnamed: 0 Kingdom  DNAtype  SpeciesID  Ncodons  \\\n",
      "0        5114     bct        0     360105   568103   \n",
      "1        8747     inv        0     135724     6295   \n",
      "2        6220     pln        0     120297     3451   \n",
      "3        6144     pln        0     105351    14867   \n",
      "4        6783     pln        2     280810     1143   \n",
      "\n",
      "                           SpeciesName      UUU      UUC      UUA      UUG  \\\n",
      "0          Campylobacter curvus 525.92  0.00959  0.01359  0.01584  0.01312   \n",
      "1                Pimpla hypochondriaca  0.01223  0.03447  0.00508  0.01811   \n",
      "2     Fusarium oxysporum f. sp. niveum  0.01014  0.03014  0.00145  0.01275   \n",
      "3                  Aspergillus awamori  0.03551  0.02892  0.00155  0.01117   \n",
      "4  chloroplast Cryptothallus mirabilis  0.01662  0.01400  0.02800  0.03412   \n",
      "\n",
      "   ...      CGA      CGG      AGG      GAU      GAC      GAA      GAG  \\\n",
      "0  ...  0.00354  0.00121  0.00709  0.02980  0.04135  0.02608  0.03877   \n",
      "1  ...  0.00763  0.00524  0.01001  0.02621  0.03368  0.02303  0.03066   \n",
      "2  ...  0.00551  0.00058  0.00174  0.02753  0.02695  0.00637  0.01826   \n",
      "3  ...  0.00303  0.00451  0.00356  0.02865  0.02401  0.01594  0.03390   \n",
      "4  ...  0.01662  0.00175  0.01837  0.03062  0.02362  0.03150  0.01575   \n",
      "\n",
      "       UAA      UAG      UGA  \n",
      "0  0.01183  0.00061  0.00117  \n",
      "1  0.03479  0.00064  0.00064  \n",
      "2  0.03216  0.00116  0.00029  \n",
      "3  0.01628  0.00108  0.00047  \n",
      "4  0.02625  0.00087  0.00525  \n",
      "\n",
      "[5 rows x 69 columns]\n",
      "Test shape: \n",
      "(2606, 69)\n"
     ]
    }
   ],
   "source": [
    "#training data\n",
    "train = pd.read_csv(\"train.csv\")\n",
    "print(train.head()) #print the first few rows\n",
    "print(\"Train shape: \")\n",
    "print(train.shape) #look at the shape of the training data\n",
    "\n",
    "#test data test\n",
    "test = pd.read_csv(\"test.csv\")\n",
    "print(test.head()) #print the first few rows\n",
    "print(\"Test shape: \")\n",
    "print(test.shape) #look at the shape of the test data"
   ]
  },
  {
   "cell_type": "markdown",
   "metadata": {},
   "source": [
    "### Data pre processing\n",
    "There should be a total of 69/68 columns: 67 attributes (64/63 codons, SpeciesName, SpeciesID, and Ncodons) and 2 specifying the classification of the sample (Kingdom and DNAtype). The amount of columns for codons differs because the column for the AGA codon is missing in the test data. There's seems to be an additional column in the train and test object (Unnamed: 0), so we remove it here."
   ]
  },
  {
   "cell_type": "code",
   "execution_count": 16,
   "metadata": {},
   "outputs": [
    {
     "name": "stdout",
     "output_type": "stream",
     "text": [
      "  Kingdom  DNAtype  SpeciesID  Ncodons                           SpeciesName  \\\n",
      "0     vrl        0     207343     6686                    Bovine foamy virus   \n",
      "1     inv        0       7629    10060              Anthocidaris crassispina   \n",
      "2     bct        0     320850    14031               Staphylococcus phage X2   \n",
      "3     bct        0       1397    39839                    Bacillus circulans   \n",
      "4     vrt        1      50790     5112  mitochondrion Dascyllus trimaculatus   \n",
      "\n",
      "       UUU      UUC      UUA      UUG      CUU  ...      CGG      AGA  \\\n",
      "0  0.01541  0.00927  0.01720  0.01825  0.01436  ...  0.00643  0.02064   \n",
      "1  0.01213  0.02515  0.00268  0.01352  0.01372  ...  0.00268  0.00915   \n",
      "2  0.02580  0.01618  0.03606  0.01354  0.00848  ...  0.00114  0.01775   \n",
      "3  0.00128  0.02141  0.01225  0.01649  0.01330  ...  0.01177  0.00705   \n",
      "4  0.03169  0.01780  0.03893  0.00000  0.06240  ...  0.00000  0.00000   \n",
      "\n",
      "       AGG      GAU      GAC      GAA      GAG      UAA      UAG      UGA  \n",
      "0  0.01182  0.02812  0.00838  0.03365  0.01974  0.01511  0.00030  0.00030  \n",
      "1  0.01412  0.03280  0.02555  0.03708  0.05398  0.03330  0.00030  0.00050  \n",
      "2  0.00499  0.03756  0.02523  0.05388  0.01946  0.02245  0.00121  0.00086  \n",
      "3  0.00422  0.03316  0.02229  0.03444  0.02370  0.00831  0.00028  0.00063  \n",
      "4  0.00000  0.00020  0.01389  0.02465  0.00352  0.00352  0.00000  0.02465  \n",
      "\n",
      "[5 rows x 69 columns]\n",
      "  Kingdom  DNAtype  SpeciesID  Ncodons                          SpeciesName  \\\n",
      "0     bct        0     360105   568103          Campylobacter curvus 525.92   \n",
      "1     inv        0     135724     6295                Pimpla hypochondriaca   \n",
      "2     pln        0     120297     3451     Fusarium oxysporum f. sp. niveum   \n",
      "3     pln        0     105351    14867                  Aspergillus awamori   \n",
      "4     pln        2     280810     1143  chloroplast Cryptothallus mirabilis   \n",
      "\n",
      "       UUU      UUC      UUA      UUG      CUU  ...      CGA      CGG  \\\n",
      "0  0.00959  0.01359  0.01584  0.01312  0.02491  ...  0.00354  0.00121   \n",
      "1  0.01223  0.03447  0.00508  0.01811  0.01176  ...  0.00763  0.00524   \n",
      "2  0.01014  0.03014  0.00145  0.01275  0.01420  ...  0.00551  0.00058   \n",
      "3  0.03551  0.02892  0.00155  0.01117  0.01224  ...  0.00303  0.00451   \n",
      "4  0.01662  0.01400  0.02800  0.03412  0.01312  ...  0.01662  0.00175   \n",
      "\n",
      "       AGG      GAU      GAC      GAA      GAG      UAA      UAG      UGA  \n",
      "0  0.00709  0.02980  0.04135  0.02608  0.03877  0.01183  0.00061  0.00117  \n",
      "1  0.01001  0.02621  0.03368  0.02303  0.03066  0.03479  0.00064  0.00064  \n",
      "2  0.00174  0.02753  0.02695  0.00637  0.01826  0.03216  0.00116  0.00029  \n",
      "3  0.00356  0.02865  0.02401  0.01594  0.03390  0.01628  0.00108  0.00047  \n",
      "4  0.01837  0.03062  0.02362  0.03150  0.01575  0.02625  0.00087  0.00525  \n",
      "\n",
      "[5 rows x 68 columns]\n"
     ]
    }
   ],
   "source": [
    "train=train.drop(columns='Unnamed: 0') #drop the specified column\n",
    "print(train.head()) \n",
    "test=test.drop(columns='Unnamed: 0') #drop the specified column\n",
    "print(test.head())"
   ]
  },
  {
   "cell_type": "markdown",
   "metadata": {},
   "source": [
    "Next we check to see if there is any missing data. The project specification says that aside from the missing AGA column of the test data, there should not be any missing data, so this acts as a sanity check to ensure the data is as intended."
   ]
  },
  {
   "cell_type": "code",
   "execution_count": 21,
   "metadata": {},
   "outputs": [
    {
     "data": {
      "text/plain": [
       "0"
      ]
     },
     "execution_count": 21,
     "metadata": {},
     "output_type": "execute_result"
    },
    {
     "data": {
      "text/plain": [
       "0"
      ]
     },
     "execution_count": 21,
     "metadata": {},
     "output_type": "execute_result"
    }
   ],
   "source": [
    "#check how many samples with missing values there are in\n",
    "(pd.isna(train).sum()>0).sum() #the train data\n",
    "(pd.isna(test).sum()>0).sum() #and the test data"
   ]
  },
  {
   "cell_type": "markdown",
   "metadata": {},
   "source": [
    "## Data Visualization"
   ]
  },
  {
   "cell_type": "markdown",
   "metadata": {},
   "source": [
    "## Clustering Analysis"
   ]
  },
  {
   "cell_type": "markdown",
   "metadata": {},
   "source": [
    "# Classification"
   ]
  }
 ],
 "metadata": {
  "kernelspec": {
   "display_name": "Python 3",
   "language": "python",
   "name": "python3"
  },
  "language_info": {
   "codemirror_mode": {
    "name": "ipython",
    "version": 3
   },
   "file_extension": ".py",
   "mimetype": "text/x-python",
   "name": "python",
   "nbconvert_exporter": "python",
   "pygments_lexer": "ipython3",
   "version": "3.10.12"
  }
 },
 "nbformat": 4,
 "nbformat_minor": 2
}
